{
 "cells": [
  {
   "cell_type": "code",
   "execution_count": 1,
   "id": "6dd8ad4d",
   "metadata": {},
   "outputs": [],
   "source": [
    "import numpy as np\n",
    "import matplotlib.pyplot as plt\n",
    "from astropy.io import ascii\n",
    "from scipy.optimize import curve_fit"
   ]
  },
  {
   "cell_type": "code",
   "execution_count": 2,
   "id": "e067ea0b",
   "metadata": {},
   "outputs": [],
   "source": [
    "COData = ascii.read('C:/Users/seven/OneDrive/Documents/CO Data - Polaris/COpol119070p2800.txt')"
   ]
  },
  {
   "cell_type": "code",
   "execution_count": 3,
   "id": "318ff84b",
   "metadata": {},
   "outputs": [],
   "source": [
    "vel = COData['col1']\n",
    "Ta = COData['col2']"
   ]
  },
  {
   "cell_type": "code",
   "execution_count": 4,
   "id": "f6f1620e",
   "metadata": {},
   "outputs": [],
   "source": [
    "def Gauss(x, height, center, width):\n",
    "    y = height*np.exp(-(x-center)**2/(2*width**2))\n",
    "    return y"
   ]
  },
  {
   "cell_type": "code",
   "execution_count": 5,
   "id": "2333afc5",
   "metadata": {},
   "outputs": [],
   "source": [
    "igood = np.where((vel >= -100) & (vel <=100))"
   ]
  },
  {
   "cell_type": "code",
   "execution_count": 6,
   "id": "8892194a",
   "metadata": {},
   "outputs": [],
   "source": [
    "vel = vel[igood]\n",
    "Ta = Ta[igood]"
   ]
  },
  {
   "cell_type": "code",
   "execution_count": 7,
   "id": "c956054c",
   "metadata": {},
   "outputs": [],
   "source": [
    "parameters, covariance = curve_fit(Gauss, vel, Ta, p0=[0.03, 0, 4])\n",
    "fitA = parameters[0]\n",
    "fitB = parameters[1]\n",
    "fitC = parameters[2]\n",
    "fit_y = Gauss(vel, fitA, fitB, fitC)"
   ]
  },
  {
   "cell_type": "code",
   "execution_count": 15,
   "id": "fb04c705",
   "metadata": {
    "scrolled": false
   },
   "outputs": [
    {
     "data": {
      "text/plain": [
       "<matplotlib.lines.Line2D at 0x286f8e451b0>"
      ]
     },
     "execution_count": 15,
     "metadata": {},
     "output_type": "execute_result"
    },
    {
     "data": {
      "image/png": "[encoded data removed]",
      "text/plain": [
       "<Figure size 640x480 with 1 Axes>"
      ]
     },
     "metadata": {},
     "output_type": "display_data"
    }
   ],
   "source": [
    "plt.step(vel, Ta, 'grey', label = 'data')\n",
    "plt.step(vel, fit_y-0.8, 'purple',ls='dashed', label = 'Gaussian Fit - CO')\n",
    "plt.legend()\n",
    "#plt.xlim(-100, 100)\n",
    "plt.legend(loc = 'best')\n",
    "plt.xlabel(r'$V_{LSR}$ (km/s)')\n",
    "plt.ylabel('Ta (K)')\n",
    "plt.title('CO 119.07 28.00')\n",
    "plt.axhline(0.15)\n",
    "\n",
    "plt.axhline(-0.15)"
   ]
  },
  {
   "cell_type": "code",
   "execution_count": 22,
   "id": "6527540b",
   "metadata": {},
   "outputs": [
    {
     "name": "stdout",
     "output_type": "stream",
     "text": [
      "4.43363030253839\n",
      "0.48180246149631584\n",
      "9.202174452926268\n"
     ]
    }
   ],
   "source": [
    "#Define noise region:\n",
    "igoodNoise = np.where((vel >= 5) & (vel <=30))\n",
    "np.std(Ta[igoodNoise])\n",
    "\n",
    "\n",
    "#calculate integral/err\n",
    "igoodint = np.where((vel >= -10) & (vel <= 5))\n",
    "\n",
    "integral = np.sum(Ta[igoodint])*(vel[1]-vel[0])\n",
    "\n",
    "err = np.sqrt(len(vel[igoodint]))*np.std(Ta[igoodNoise])*(vel[1]-vel[0])\n",
    "\n",
    "SigNoise = integral/err\n",
    "\n",
    "print(integral)\n",
    "print(err)\n",
    "print(SigNoise)"
   ]
  },
  {
   "cell_type": "code",
   "execution_count": 10,
   "id": "a8c6718a",
   "metadata": {},
   "outputs": [
    {
     "data": {
      "text/plain": [
       "0.15451054744718606"
      ]
     },
     "execution_count": 10,
     "metadata": {},
     "output_type": "execute_result"
    }
   ],
   "source": [
    "igoodNoise = np.where((vel >= 5) & (vel <=30))\n",
    "np.std(Ta[igoodNoise])"
   ]
  },
  {
   "cell_type": "code",
   "execution_count": 24,
   "id": "53c6cc9d",
   "metadata": {},
   "outputs": [
    {
     "data": {
      "text/plain": [
       "0.6502000000000017"
      ]
     },
     "execution_count": 24,
     "metadata": {},
     "output_type": "execute_result"
    }
   ],
   "source": [
    "vel[1]-vel[0]"
   ]
  },
  {
   "cell_type": "code",
   "execution_count": null,
   "id": "9ed5093e",
   "metadata": {},
   "outputs": [],
   "source": []
  }
 ],
 "metadata": {
  "kernelspec": {
   "display_name": "Python 3 (ipykernel)",
   "language": "python",
   "name": "python3"
  },
  "language_info": {
   "codemirror_mode": {
    "name": "ipython",
    "version": 3
   },
   "file_extension": ".py",
   "mimetype": "text/x-python",
   "name": "python",
   "nbconvert_exporter": "python",
   "pygments_lexer": "ipython3",
   "version": "3.10.9"
  }
 },
 "nbformat": 4,
 "nbformat_minor": 5
}
